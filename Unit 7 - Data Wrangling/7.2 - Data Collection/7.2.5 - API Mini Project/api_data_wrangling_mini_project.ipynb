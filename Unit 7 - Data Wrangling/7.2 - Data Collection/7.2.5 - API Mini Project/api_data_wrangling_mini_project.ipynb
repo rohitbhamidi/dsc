{
 "cells": [
  {
   "cell_type": "markdown",
   "metadata": {},
   "source": [
    "This exercise will require you to pull some data from https://data.nasdaq.com/ (formerly Quandl API)."
   ]
  },
  {
   "cell_type": "markdown",
   "metadata": {},
   "source": [
    "As a first step, you will need to register a free account on the https://data.nasdaq.com/ website."
   ]
  },
  {
   "cell_type": "markdown",
   "metadata": {},
   "source": [
    "After you register, you will be provided with a unique API key, that you should store:\n",
    "\n",
    "*Note*: Use a `.env` file and put your key in there and `python-dotenv` to access it in this notebook. \n",
    "\n",
    "The code below uses a key that was used when generating this project but has since been deleted. Never submit your keys to source control. There is a `.env-example` file in this repository to illusrtate what you need. Copy that to a file called `.env` and use your own api key in that `.env` file. Make sure you also have a `.gitignore` file with a line for `.env` added to it. \n",
    "\n",
    "The standard Python gitignore is [here](https://github.com/github/gitignore/blob/master/Python.gitignore) you can just copy that. "
   ]
  },
  {
   "cell_type": "code",
   "execution_count": 1,
   "metadata": {},
   "outputs": [],
   "source": [
    "# get api key from your .env file\n",
    "import os\n",
    "from dotenv import load_dotenv\n",
    "\n",
    "load_dotenv('/Volumes/My Passport for Mac/Springboard stuff/dsc/Unit 7 - Data Wrangling/7.2 - Data Collection/7.2.5 - API Mini Project/.env_example')\n",
    "API_KEY = os.getenv('NASDAQ_API_KEY')"
   ]
  },
  {
   "cell_type": "markdown",
   "metadata": {},
   "source": [
    "Nasdaq Data has a large number of data sources, but, unfortunately, most of them require a Premium subscription. Still, there are also a good number of free datasets."
   ]
  },
  {
   "cell_type": "markdown",
   "metadata": {},
   "source": [
    "For this mini project, we will focus on equities data from the Frankfurt Stock Exhange (FSE), which is available for free. We'll try and analyze the stock prices of a company called Carl Zeiss Meditec, which manufactures tools for eye examinations, as well as medical lasers for laser eye surgery: https://www.zeiss.com/meditec/int/home.html. The company is listed under the stock ticker AFX_X."
   ]
  },
  {
   "cell_type": "markdown",
   "metadata": {},
   "source": [
    "You can find the detailed Nasdaq Data API instructions here: https://docs.data.nasdaq.com/docs/in-depth-usage"
   ]
  },
  {
   "cell_type": "markdown",
   "metadata": {},
   "source": [
    "While there is a dedicated Python package for connecting to the Nasdaq API, we would prefer that you use the *requests* package, which can be easily downloaded using *pip* or *conda*. You can find the documentation for the package here: http://docs.python-requests.org/en/master/ "
   ]
  },
  {
   "cell_type": "markdown",
   "metadata": {},
   "source": [
    "Finally, apart from the *requests* package, you are encouraged to not use any third party Python packages, such as *pandas*, and instead focus on what's available in the Python Standard Library (the *collections* module might come in handy: https://pymotw.com/3/collections/).\n",
    "Also, since you won't have access to DataFrames, you are encouraged to us Python's native data structures - preferably dictionaries, though some questions can also be answered using lists.\n",
    "You can read more on these data structures here: https://docs.python.org/3/tutorial/datastructures.html"
   ]
  },
  {
   "cell_type": "markdown",
   "metadata": {},
   "source": [
    "Keep in mind that the JSON responses you will be getting from the API map almost one-to-one to Python's dictionaries. Unfortunately, they can be very nested, so make sure you read up on indexing dictionaries in the documentation provided above."
   ]
  },
  {
   "cell_type": "code",
   "execution_count": 2,
   "metadata": {},
   "outputs": [],
   "source": [
    "# First, import the relevant modules\n",
    "import requests\n",
    "import collections"
   ]
  },
  {
   "cell_type": "markdown",
   "metadata": {},
   "source": [
    "Note: API's can change a bit with each version, for this exercise it is reccomended to use the nasdaq api at `https://data.nasdaq.com/api/v3/`. This is the same api as what used to be quandl so `https://www.quandl.com/api/v3/` should work too.\n",
    "\n",
    "Hint: We are looking for the `AFX_X` data on the `datasets/FSE/` dataset."
   ]
  },
  {
   "cell_type": "code",
   "execution_count": 3,
   "metadata": {},
   "outputs": [],
   "source": [
    "# Now, call the Nasdaq API and pull out a small sample of the data (only one day) to get a glimpse\n",
    "# into the JSON structure that will be returned\n",
    "res = requests.get('https://data.nasdaq.com/api/v3/datasets/FSE/AFX_X/data.json', params=dict(api_key=API_KEY))"
   ]
  },
  {
   "cell_type": "markdown",
   "metadata": {},
   "source": [
    "These are your tasks for this mini project:\n",
    "\n",
    "1. Collect data from the Franfurt Stock Exchange, for the ticker AFX_X, for the whole year 2017 (keep in mind that the date format is YYYY-MM-DD).\n",
    "2. Convert the returned JSON object into a Python dictionary.\n",
    "3. Calculate what the highest and lowest opening prices were for the stock in this period.\n",
    "4. What was the largest change in any one day (based on High and Low price)?\n",
    "5. What was the largest change between any two days (based on Closing Price)?\n",
    "6. What was the average daily trading volume during this year?\n",
    "7. (Optional) What was the median trading volume during this year. (Note: you may need to implement your own function for calculating the median.)"
   ]
  },
  {
   "cell_type": "code",
   "execution_count": 4,
   "metadata": {},
   "outputs": [],
   "source": [
    "import json"
   ]
  },
  {
   "cell_type": "code",
   "execution_count": 5,
   "metadata": {},
   "outputs": [],
   "source": [
    "# converts the json object into a python dictionary\n",
    "json_data = res.json()"
   ]
  },
  {
   "cell_type": "code",
   "execution_count": 6,
   "metadata": {},
   "outputs": [
    {
     "name": "stdout",
     "output_type": "stream",
     "text": [
      "dict_keys(['limit', 'transform', 'column_index', 'column_names', 'start_date', 'end_date', 'frequency', 'data', 'collapse', 'order'])\n"
     ]
    }
   ],
   "source": [
    "# finding the column names (AKA the keys) for the data\n",
    "print(json_data['dataset_data'].keys())"
   ]
  },
  {
   "cell_type": "code",
   "execution_count": 7,
   "metadata": {},
   "outputs": [
    {
     "data": {
      "text/plain": [
       "[['2020-12-01',\n",
       "  112.2,\n",
       "  112.2,\n",
       "  111.5,\n",
       "  112.0,\n",
       "  None,\n",
       "  51.0,\n",
       "  5703.0,\n",
       "  None,\n",
       "  None,\n",
       "  None],\n",
       " ['2020-11-30',\n",
       "  111.0,\n",
       "  113.6,\n",
       "  111.0,\n",
       "  112.1,\n",
       "  None,\n",
       "  315.0,\n",
       "  35111.5,\n",
       "  None,\n",
       "  None,\n",
       "  None],\n",
       " ['2020-11-27',\n",
       "  111.0,\n",
       "  111.5,\n",
       "  109.5,\n",
       "  111.2,\n",
       "  None,\n",
       "  155.0,\n",
       "  17168.5,\n",
       "  None,\n",
       "  None,\n",
       "  None],\n",
       " ['2020-11-26',\n",
       "  111.3,\n",
       "  112.0,\n",
       "  110.5,\n",
       "  111.6,\n",
       "  None,\n",
       "  254.0,\n",
       "  28367.5,\n",
       "  None,\n",
       "  None,\n",
       "  None],\n",
       " ['2020-11-25',\n",
       "  111.4,\n",
       "  111.4,\n",
       "  110.1,\n",
       "  110.1,\n",
       "  None,\n",
       "  294.0,\n",
       "  32435.8,\n",
       "  None,\n",
       "  None,\n",
       "  None]]"
      ]
     },
     "execution_count": 7,
     "metadata": {},
     "output_type": "execute_result"
    }
   ],
   "source": [
    "json_data['dataset_data']['data'][:5]"
   ]
  },
  {
   "cell_type": "code",
   "execution_count": 8,
   "metadata": {},
   "outputs": [
    {
     "data": {
      "text/plain": [
       "['Date',\n",
       " 'Open',\n",
       " 'High',\n",
       " 'Low',\n",
       " 'Close',\n",
       " 'Change',\n",
       " 'Traded Volume',\n",
       " 'Turnover',\n",
       " 'Last Price of the Day',\n",
       " 'Daily Traded Units',\n",
       " 'Daily Turnover']"
      ]
     },
     "execution_count": 8,
     "metadata": {},
     "output_type": "execute_result"
    }
   ],
   "source": [
    "json_data['dataset_data']['column_names']"
   ]
  },
  {
   "cell_type": "code",
   "execution_count": 9,
   "metadata": {},
   "outputs": [
    {
     "name": "stdout",
     "output_type": "stream",
     "text": [
      "['2017-12-29', 51.76, 51.94, 51.45, 51.76, None, 34640.0, 1792304.0, None, None, None]\n"
     ]
    }
   ],
   "source": [
    "# isolate the 2017 data\n",
    "actual_data = json_data['dataset_data']['data']\n",
    "year_2017_data = []\n",
    "for items in actual_data:\n",
    "    if items[0][:4] == '2017':\n",
    "        year_2017_data.append(items)\n",
    "print(year_2017_data[0])"
   ]
  },
  {
   "cell_type": "code",
   "execution_count": 10,
   "metadata": {},
   "outputs": [
    {
     "name": "stdout",
     "output_type": "stream",
     "text": [
      "The highest high for the year 2017 was 53.54, and the lowest high for the year 2017 was 34.12.\n"
     ]
    }
   ],
   "source": [
    "# find the highest high and the lowest high\n",
    "highs_list = []\n",
    "for items in year_2017_data:\n",
    "    highs_list.append(items[2])\n",
    "print(\"The highest high for the year 2017 was {}, and the lowest high for the year 2017 was {}.\".format(max(highs_list), min(highs_list)))\n"
   ]
  },
  {
   "cell_type": "code",
   "execution_count": 11,
   "metadata": {},
   "outputs": [
    {
     "name": "stdout",
     "output_type": "stream",
     "text": [
      "The largest change in any one day based on High and Low price was 2.8100000000000023.\n"
     ]
    }
   ],
   "source": [
    "# largest change in any one day based on High and Low price:\n",
    "daily_change_list = []\n",
    "for items in year_2017_data:\n",
    "    daily_change = abs(items[2]-items[3])\n",
    "    daily_change_list.append(daily_change)\n",
    "print(\"The largest change in any one day based on High and Low price was {}.\".format(max(daily_change_list)))"
   ]
  },
  {
   "cell_type": "code",
   "execution_count": 12,
   "metadata": {},
   "outputs": [
    {
     "name": "stdout",
     "output_type": "stream",
     "text": [
      "The largest change in any two days based on closing prices was 2.559999999999995.\n"
     ]
    }
   ],
   "source": [
    "# largest change in any two days based on closing price:\n",
    "ordered_2017_data = year_2017_data[::-1]\n",
    "ordered_2017_data_shift = ordered_2017_data[1:]\n",
    "two_day_change_list = []\n",
    "\n",
    "for i in range(len(ordered_2017_data_shift)):\n",
    "    two_day_change = abs(ordered_2017_data[i][4]-ordered_2017_data_shift[i][4])\n",
    "    two_day_change_list.append(two_day_change)\n",
    "print(\"The largest change in any two days based on closing prices was {}.\".format(max(two_day_change_list)))"
   ]
  },
  {
   "cell_type": "code",
   "execution_count": 13,
   "metadata": {},
   "outputs": [
    {
     "name": "stdout",
     "output_type": "stream",
     "text": [
      "The average daily trading volume for 2017 was 89124.33725490196.\n"
     ]
    }
   ],
   "source": [
    "# average daily trading volume for 2017:\n",
    "tvol_list = []\n",
    "\n",
    "for items in year_2017_data:\n",
    "    tvol_list.append(items[6])\n",
    "print(\"The average daily trading volume for 2017 was {}.\".format(sum(tvol_list)/float(len(tvol_list))))"
   ]
  },
  {
   "cell_type": "code",
   "execution_count": 14,
   "metadata": {},
   "outputs": [],
   "source": [
    "# definition of median function from https://stackoverflow.com/questions/24101524/finding-median-of-list-in-python\n",
    "def median(data):\n",
    "    data.sort()\n",
    "    mid = len(data) // 2\n",
    "    return (data[mid] + data[~mid]) / 2.0"
   ]
  },
  {
   "cell_type": "code",
   "execution_count": 15,
   "metadata": {},
   "outputs": [
    {
     "name": "stdout",
     "output_type": "stream",
     "text": [
      "The median trading volume for 2017 was 76286.0.\n"
     ]
    }
   ],
   "source": [
    "# median trading volume:\n",
    "print(\"The median trading volume for 2017 was {}.\".format(median(tvol_list)))"
   ]
  }
 ],
 "metadata": {
  "kernelspec": {
   "display_name": "base",
   "language": "python",
   "name": "python3"
  },
  "language_info": {
   "codemirror_mode": {
    "name": "ipython",
    "version": 3
   },
   "file_extension": ".py",
   "mimetype": "text/x-python",
   "name": "python",
   "nbconvert_exporter": "python",
   "pygments_lexer": "ipython3",
   "version": "3.9.13"
  },
  "vscode": {
   "interpreter": {
    "hash": "095e2509baaee9ba3031fb48220a21a82361c2648fe49d4bd4b3ee0a0aa97fc1"
   }
  }
 },
 "nbformat": 4,
 "nbformat_minor": 4
}
